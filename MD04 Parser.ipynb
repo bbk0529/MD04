{
 "cells": [
  {
   "cell_type": "code",
   "execution_count": 279,
   "metadata": {},
   "outputs": [],
   "source": [
    "#https://stackoverflow.com/questions/11869910/pandas-filter-rows-of-dataframe-with-operator-chaining\n",
    "import pandas as pd\n",
    "import numpy as np\n",
    "import datetime\n",
    "from dateutil import parser\n",
    "from datetime import datetime, timedelta "
   ]
  },
  {
   "cell_type": "code",
   "execution_count": null,
   "metadata": {},
   "outputs": [],
   "source": [
    "\n",
    "category = { \n",
    "    'ShipNt' :  \"Receipt\",\n",
    "    'SchLne' :  \"Receipt\",    \n",
    "    'Stock'  :  \"Receipt\",\n",
    "    'PlOrd.'  :  \"Receipt\",\n",
    "    'CStock' : \"Reqmt\",\n",
    "    'Ordres' : \"Reqmt\",    \n",
    "    'Order'  :  \"Reqmt\",\n",
    "    'Deliv.' : \"Reqmt\",\n",
    "    'PrdOrd' : \"\", #normally assigned together with cstock. no need to count\n",
    "    'OrdRes' : \"Reqmt\",\n",
    "    'TrRes.' : \"Reqmt\",\n",
    "    'DepReq' : \"Reqmt\",\n",
    "    'RelOrd' : \"Reqmt\",\n",
    "    'Fr.del' : \"Reqmt\",\n",
    "    #'SafeSt' : \"Reqmt\", #For GPC Production\n",
    "    'SafeSt' : \"\", #For 360 F-KR, which would consume SafeST as well.\n",
    "    'StLcSt' : \"\",\n",
    "    'PurRqs' : \"\",\n",
    "    '----->' : \"\",\n",
    "    'IndReq' : \"\"\n",
    "}\n",
    "header=[\"Partnr\",\"SO_Date\",\"SO_MRP\", \"SO_NR\", \"SO_POS\",\"SO_QTY\", \"PO_DATE\",\"PO_MRP\",\"PO_NR\", \"PO_POS\",\"PO_QTY\"]\n",
    "metaheader=['partnr', 'description', 'MRP', 'TYPE', 'PLANT', 'LT']\n",
    "total=[]   "
   ]
  },
  {
   "cell_type": "code",
   "execution_count": 2,
   "metadata": {},
   "outputs": [],
   "source": [
    "#filter using chain method \n",
    "def mask(df, key, value):\n",
    "    return df[df[key] == value]\n",
    "pd.DataFrame.mask = mask"
   ]
  },
  {
   "cell_type": "code",
   "execution_count": 3,
   "metadata": {},
   "outputs": [],
   "source": [
    "def fileRead(filename) :    \n",
    "    count=0    \n",
    "    \n",
    "    with open(filename,\"r\", encoding=\"ISO-8859-1\") as file:\n",
    "        document= file.readlines() \n",
    "        #print(\"Reading the file as raw format\" , filename)\n",
    "    return document #read whole content in \"document\""
   ]
  },
  {
   "cell_type": "code",
   "execution_count": 4,
   "metadata": {},
   "outputs": [],
   "source": [
    "def orderRead(filename) : \n",
    "    document=fileRead(filename)\n",
    "    partnr=document[5].split(\"             \")[1].strip()\n",
    "    orderList=[]\n",
    "    #print(document[20])\n",
    "    try : \n",
    "        clientLocation=document[20].split(\"|\").index(\"Customer  \")\n",
    "    except :\n",
    "        clientLocation=-1\n",
    "\n",
    "    for line in document[22:-3] : \n",
    "        splitLine=line.split(\"|\")\n",
    "        type=splitLine[3].strip()    \n",
    "        \n",
    "        if (category[type]=='Reqmt') : \n",
    "            try : \n",
    "                qty=int(float(splitLine[7].replace(\"-\",\"\")))\n",
    "            except :\n",
    "                qty=0\n",
    "                \n",
    "            order= (partnr,splitLine[2].strip(), splitLine[4][:10].strip(), qty, splitLine[clientLocation])\n",
    "            #print(order)\n",
    "            orderList.append(order)\n",
    "\n",
    "    return pd.DataFrame(orderList, columns=[\"partnr\", \"date\", \"so\",\"qty\",\"client\"] )"
   ]
  },
  {
   "cell_type": "code",
   "execution_count": 5,
   "metadata": {},
   "outputs": [],
   "source": [
    "def fehaParser(ReqmtQueue, ReceiptQueue) :\n",
    "    \n",
    "    MappedResult=[]\n",
    "    flag=0\n",
    "    Receipt=[]\n",
    "    Reqmt=[]\n",
    "    \n",
    "    \n",
    "    try :       \n",
    "        Receipt = ReceiptQueue.pop(0)\n",
    "        Reqmt = ReqmtQueue.pop(0)  \n",
    "\n",
    "        while True :                 \n",
    "            #print (Receipt[5], Reqmt[5])\n",
    "            if Receipt[5] + Reqmt[5] == 0 :                    \n",
    "                flag=0\n",
    "                MappedResult.append([Reqmt[0], Reqmt[1], Reqmt[2], Reqmt[3], Reqmt[4], Reqmt[5],  Receipt[1], Receipt[2], Receipt[3], Receipt[4], Receipt[5]])    \n",
    "                ##print(\"DF\")\n",
    "                ##print(df,\"\\n\")\n",
    "                ##print(\"ReceiptQueue\")\n",
    "                ##print(ReceiptQueue, \"\\n\")\n",
    "                ##print(\"ReqmtQueue\")\n",
    "                ##print(ReqmtQueue, \"\\n\\n\")\n",
    "\n",
    "                if len(ReceiptQueue) +  len(ReqmtQueue) <=0 : \n",
    "                    return MappedResult                        \n",
    "\n",
    "                Receipt=[]; Receipt = ReceiptQueue.pop(0)\n",
    "                Reqmt=[]; Reqmt = ReqmtQueue.pop(0)  \n",
    "\n",
    "            if Receipt[5] + Reqmt[5] > 0 :                           \n",
    "                flag=1\n",
    "                MappedResult.append([Reqmt[0], Reqmt[1], Reqmt[2], Reqmt[3], Reqmt[4], Reqmt[5],  Receipt[1], Receipt[2], Receipt[3], Receipt[4], -Reqmt[5]])    \n",
    "                Receipt[5] +=Reqmt[5]            \n",
    "                Reqmt = ReqmtQueue.pop(0)  \n",
    "\n",
    "\n",
    "            if Receipt[5] + Reqmt[5] < 0 :                                \n",
    "                flag=-1\n",
    "                MappedResult.append([Reqmt[0], Reqmt[1], Reqmt[2], Reqmt[3], Reqmt[4], -Receipt[5],  Receipt[1], Receipt[2], Receipt[3], Receipt[4], Receipt[5]])\n",
    "                Reqmt[5] +=Receipt[5]\n",
    "                Receipt = ReceiptQueue.pop(0)\n",
    "\n",
    "        #if no elment for popping.  \n",
    "    except Exception as e:   \n",
    "\n",
    "        if flag == -1:\n",
    "            MappedResult.append([Reqmt[0], Reqmt[1], Reqmt[2], Reqmt[3], Reqmt[4], Reqmt[5],'','' ,'' ,'' ,'' ]) \n",
    "        elif flag == 1:\n",
    "            MappedResult.append([Receipt[0], '','','','','',  Receipt[1], Receipt[2], Receipt[3], Receipt[4], Receipt[5]])          \n",
    "\n",
    "        elif flag == 0:                \n",
    "\n",
    "\n",
    "            if len(Reqmt) == 0 and len(Receipt)==0 :                     \n",
    "                print(\"both empty\")\n",
    "            elif len(Reqmt) == 0 and len(Receipt)!=0: \n",
    "                ##print(\"Reqmt empty\")\n",
    "                MappedResult.append([Receipt[0], '','','','','',  Receipt[1], Receipt[2], Receipt[3], Receipt[4], Receipt[5]])          \n",
    "            elif len(Reqmt) !=0 and len(Receipt) ==0 :                \n",
    "                ##print(\"Receipt empty\")\n",
    "                MappedResult.append([Reqmt[0], Reqmt[1], Reqmt[2], Reqmt[3], Reqmt[4], Reqmt[5],'','' ,'' ,'' ,'' ]) \n",
    "\n",
    "\n",
    "        for Reqmt in ReqmtQueue :\n",
    "            MappedResult.append([Reqmt[0], Reqmt[1], Reqmt[2], Reqmt[3], Reqmt[4], Reqmt[5],'','' ,'' ,'' ,'' ]) \n",
    "\n",
    "        for Receipt in ReceiptQueue :\n",
    "            MappedResult.append([Receipt[0], '','','','','',  Receipt[1], Receipt[2], Receipt[3], Receipt[4], Receipt[5]])          \n",
    "\n",
    "        return MappedResult\n",
    "            "
   ]
  },
  {
   "cell_type": "code",
   "execution_count": 6,
   "metadata": {},
   "outputs": [],
   "source": [
    "def parsingDoc(document) :\n",
    "    #line 6 for material # and material description\n",
    "    partnr=document[5].split(\"             \")[1].strip()\n",
    "    description=document[5].split(\"             \")[2].strip()\n",
    "    plnt=document[6].split()[2].strip()    \n",
    "    #print(\"plnt number\", plnt)\n",
    "    if plnt!='0360' : category['SafeSt'] = \"Reqmt\" #If plnt is not 0360 (F-KR), safety stock should be reqmt \n",
    "    \n",
    "    \n",
    "    #line9 MRP type / Matl Type\n",
    "    MRP=document[8].split()[3];\n",
    "    MatlType=document[8].split()[6];\n",
    "\n",
    "    #line11 Purchasing Group\n",
    "    PurGrp=document[10].split()[2]; \n",
    "\n",
    "    #line12\n",
    "    leadtime=document[11].split()[4];\n",
    "\n",
    "    meta=[partnr,description, MRP, MatlType, PurGrp, leadtime]\n",
    "    header=[\"Partnr\", \"Date\",\"Type\",\"DocNum\",\"Pos\",\"Change\",\"Avail\"]\n",
    "    data=[]\n",
    "\n",
    "    for line in document[22:-3] :\n",
    "        cursor=line.split(\"|\")\n",
    "                \n",
    "        #doc/pos number extracted\n",
    "        try :            \n",
    "            docNum=cursor[4].strip().split(\"/\")[0]\n",
    "            pos=cursor[4].strip().split(\"/\")[1]\n",
    "        \n",
    "        except Exception as e:\n",
    "            docNum=cursor[4].strip()\n",
    "            pos=0\n",
    "        \n",
    "        #qty extracted \n",
    "        try  :\n",
    "            if int(cursor[7][-1] == \"-\") :                      \n",
    "                 qty=(-int(float((cursor[7][0:-1].strip().replace(\",\",\"\")))))\n",
    "            \n",
    "            else:                \n",
    "                qty=((int(float(cursor[7].strip().replace(\",\",\"\")))))\n",
    "        \n",
    "        except Exception as e:\n",
    "            qty=0\n",
    "            \n",
    "        #avail number extracted \n",
    "        try : \n",
    "            if int(cursor[8][-1] == \"-\") :      \n",
    "                avail=(-int(float((cursor[8][0:-1].strip().replace(\",\",\"\")))))\n",
    "            else:\n",
    "                avail=((int(float(cursor[8].strip().replace(\",\",\"\")))))                \n",
    "                \n",
    "        except Exception as e:\n",
    "            avail=0            \n",
    "        datum = [partnr, cursor[2].strip(), cursor[3].strip(), docNum, pos, qty, avail]\n",
    "        data.append(datum)\n",
    "    \n",
    "    md04={\"meta\":meta, \"header\": header, \"data\":data}\n",
    "    return md04"
   ]
  },
  {
   "cell_type": "code",
   "execution_count": 7,
   "metadata": {},
   "outputs": [],
   "source": [
    "#Direct Procurmeent Extractor\n",
    "def directProcurementParser(mdlist) : \n",
    "    flag=False\n",
    "    \n",
    "    DIRECTPROCUREMENT=[] #final result\n",
    "    idxs=[] #index numbers for reomving\n",
    "    \n",
    "    \n",
    "    for idx, line in enumerate(mdlist): \n",
    "        type=line[2]                \n",
    "        #signal\n",
    "        if (type=='----->') :\n",
    "            idxs.append(idx)\n",
    "            flag=True\n",
    "            continue    \n",
    "        #Receipt\n",
    "        if(flag==True and category[type]=='Reqmt') :       \n",
    "            reqmt=line \n",
    "            idxs.append(idx)\n",
    "\n",
    "        if(flag==True and category[type]=='Receipt') :       \n",
    "            receipt=line\n",
    "            flag=False \n",
    "            pair=reqmt[0:5] + receipt [5:6] + receipt [1:6]\n",
    "            idxs.append(idx)\n",
    "            #print(pair)        \n",
    "            DIRECTPROCUREMENT.append(pair)\n",
    "    return DIRECTPROCUREMENT, idxs"
   ]
  },
  {
   "cell_type": "code",
   "execution_count": 8,
   "metadata": {
    "scrolled": false
   },
   "outputs": [],
   "source": [
    "#KMAT PARSER\n",
    "\n",
    "def kmatParser(mdlist) :\n",
    "    flag=False\n",
    "    KMAT=[] #final result\n",
    "    idxs=[] #index numbers for reomving\n",
    "    \n",
    "    for idx, line in enumerate(mdlist):         \n",
    "\n",
    "        type=line[2]            \n",
    "\n",
    "        #Requirement    \n",
    "        if (flag==False) and (type=='CStock') :                                 \n",
    "            flag=True\n",
    "            reqmt=line\n",
    "            idxs.append(idx)\n",
    "            continue    \n",
    "        #Receipt\n",
    "        if(flag==True) :       \n",
    "            receipt=line        \n",
    "            if type!='CStock':\n",
    "                flag=False \n",
    "                pair=reqmt[0:5] + receipt [5:6] + receipt [1:6]\n",
    "                idxs.append(idx)\n",
    "\n",
    "            if type=='CStock':             \n",
    "                pair=reqmt[0:5] + reqmt[6:7] + [\"\",\"\" ,\"\" ,\"\" ,reqmt[6] ]\n",
    "                reqmt = line\n",
    "                idxs.append(idx)\n",
    "            #print(pair)        \n",
    "            KMAT.append(pair)  \n",
    "    return KMAT, idxs"
   ]
  },
  {
   "cell_type": "markdown",
   "metadata": {},
   "source": [
    "# UNIT TEST"
   ]
  },
  {
   "cell_type": "markdown",
   "metadata": {},
   "source": [
    "### TO EXCEL CONVERATION"
   ]
  },
  {
   "cell_type": "code",
   "execution_count": null,
   "metadata": {},
   "outputs": [],
   "source": [
    "#To save excel file \n",
    "def excelConversion(MD04,ORDER,META) : \n",
    "    writer=pd.ExcelWriter(str(datetime.datetime.now().date()) + '_unit_output.xlsx')\n",
    "    MD04.to_excel(writer,'Sheet1')\n",
    "    ORDER.to_excel(writer,'Sheet2')\n",
    "    META.to_excel(writer,'Sheet3')\n",
    "    writer.save()"
   ]
  },
  {
   "cell_type": "code",
   "execution_count": 392,
   "metadata": {},
   "outputs": [],
   "source": [
    "\n",
    "#read file as list type\n",
    "def unitParser(filename) : \n",
    "    textFile=fileRead(filename)\n",
    "\n",
    "    #parsing doc \n",
    "        # md04['data']  = line infomration\n",
    "        # md04['header']. # md04['meta']= Meta information \n",
    "\n",
    "    md04=parsingDoc(textFile) \n",
    "    PD=pd.DataFrame(md04[\"data\"], columns=md04[\"header\"])   \n",
    "    df=PD.iloc[:,0:7]   \n",
    "    mdList=md04['data']\n",
    "        \n",
    "    #DIRECT PROCUREMENT, KMAT\n",
    "    DIRECTPROCUREMENT, idxsDirectProcurement =directProcurementParser(mdList)\n",
    "    KMAT, idxsKMAT =kmatParser(mdList)\n",
    "    idxs= idxsDirectProcurement+idxsKMAT\n",
    "    \n",
    "    #FEHA\n",
    "    remaining = [v for i, v in enumerate (mdList) if i not in idxs]        \n",
    "    ReceiptQueue=[item for item in remaining if category[item[2]]=='Receipt']\n",
    "    \n",
    "    ReqmtQueue=[item for item in remaining if category[item[2]]=='Reqmt']\n",
    "   \n",
    "    QUEUE= pd.DataFrame(ReceiptQueue+ ReqmtQueue, columns=md04['header'])\n",
    "    QUEUE['Change'][0]= QUEUE['Avail'][0]\n",
    "    QUEUE=QUEUE.sort_values(by=['Date'])\n",
    "    QUEUE['Avail']=QUEUE['Change'].cumsum()\n",
    "    QUEUE['Date'] = QUEUE['Date'].apply(lambda x:parser.parse(x))\n",
    "    yesterday = datetime.now() - timedelta(days=1)    \n",
    "    \n",
    "    QUEUE.loc[QUEUE.Date < yesterday, 'Date']=  datetime.now()\n",
    "    \n",
    "    \n",
    "    FEHA=fehaParser(ReqmtQueue, ReceiptQueue)\n",
    "    \n",
    "    #RESULT TO BE IN DATAFRAME\n",
    "    MD04=pd.DataFrame(pd.DataFrame((FEHA + KMAT + DIRECTPROCUREMENT), columns=header))\n",
    "\n",
    "\n",
    "    #ORDER LIST\n",
    "    ORDER=orderRead(filename)\n",
    "\n",
    "    #META\n",
    "    META=pd.DataFrame([md04['meta']], columns=metaheader)\n",
    "    \n",
    "    \n",
    "    \n",
    "    \n",
    "    \n",
    "    \n",
    "    \n",
    "    return MD04,ORDER,META,QUEUE"
   ]
  },
  {
   "cell_type": "code",
   "execution_count": 377,
   "metadata": {
    "scrolled": true
   },
   "outputs": [
    {
     "name": "stdout",
     "output_type": "stream",
     "text": [
      "  Partnr                       Date    Type      DocNum     Pos  Change  Avail\n",
      "2   2004 2018-07-31 18:22:37.955229  OrdRes    11917103       0      -6     -6\n",
      "0   2004 2018-07-31 18:22:37.955229   Stock                   0     567    561\n",
      "3   2004 2018-07-31 18:22:37.955229  Deliv.  5436709528  000010     -20    541\n",
      "4   2004 2018-07-31 18:22:37.955229  OrdRes    11917103       0      -3    538\n"
     ]
    },
    {
     "name": "stderr",
     "output_type": "stream",
     "text": [
      "C:\\dev\\anaconda3\\lib\\site-packages\\ipykernel_launcher.py:27: SettingWithCopyWarning: \n",
      "A value is trying to be set on a copy of a slice from a DataFrame\n",
      "\n",
      "See the caveats in the documentation: http://pandas.pydata.org/pandas-docs/stable/indexing.html#indexing-view-versus-copy\n"
     ]
    }
   ],
   "source": [
    "result=unitParser(\"2004\")"
   ]
  },
  {
   "cell_type": "code",
   "execution_count": 350,
   "metadata": {
    "scrolled": true
   },
   "outputs": [
    {
     "name": "stderr",
     "output_type": "stream",
     "text": [
      "C:\\dev\\anaconda3\\lib\\site-packages\\pandas\\core\\indexing.py:537: SettingWithCopyWarning: \n",
      "A value is trying to be set on a copy of a slice from a DataFrame.\n",
      "Try using .loc[row_indexer,col_indexer] = value instead\n",
      "\n",
      "See the caveats in the documentation: http://pandas.pydata.org/pandas-docs/stable/indexing.html#indexing-view-versus-copy\n",
      "  self.obj[item] = s\n"
     ]
    }
   ],
   "source": [
    "result[3][result[3].Date<datetime.now()].loc[:,'Date'] = datetime.now().strftime('%Y-%m-%d')"
   ]
  },
  {
   "cell_type": "code",
   "execution_count": 353,
   "metadata": {},
   "outputs": [],
   "source": [
    "result[3].loc[result[3].Date<datetime.now(), 'Date']=  datetime.now().strftime('%Y-%m-%d')"
   ]
  },
  {
   "cell_type": "code",
   "execution_count": 356,
   "metadata": {},
   "outputs": [
    {
     "data": {
      "text/html": [
       "<div>\n",
       "<style scoped>\n",
       "    .dataframe tbody tr th:only-of-type {\n",
       "        vertical-align: middle;\n",
       "    }\n",
       "\n",
       "    .dataframe tbody tr th {\n",
       "        vertical-align: top;\n",
       "    }\n",
       "\n",
       "    .dataframe thead th {\n",
       "        text-align: right;\n",
       "    }\n",
       "</style>\n",
       "<table border=\"1\" class=\"dataframe\">\n",
       "  <thead>\n",
       "    <tr style=\"text-align: right;\">\n",
       "      <th></th>\n",
       "      <th>Partnr</th>\n",
       "      <th>Date</th>\n",
       "      <th>Type</th>\n",
       "      <th>DocNum</th>\n",
       "      <th>Pos</th>\n",
       "      <th>Change</th>\n",
       "      <th>Avail</th>\n",
       "    </tr>\n",
       "  </thead>\n",
       "  <tbody>\n",
       "    <tr>\n",
       "      <th>2</th>\n",
       "      <td>2004</td>\n",
       "      <td>2018-07-31</td>\n",
       "      <td>OrdRes</td>\n",
       "      <td>11917103</td>\n",
       "      <td>0</td>\n",
       "      <td>-6</td>\n",
       "      <td>-6</td>\n",
       "    </tr>\n",
       "    <tr>\n",
       "      <th>0</th>\n",
       "      <td>2004</td>\n",
       "      <td>2018-07-31</td>\n",
       "      <td>Stock</td>\n",
       "      <td></td>\n",
       "      <td>0</td>\n",
       "      <td>567</td>\n",
       "      <td>561</td>\n",
       "    </tr>\n",
       "    <tr>\n",
       "      <th>3</th>\n",
       "      <td>2004</td>\n",
       "      <td>2018-07-31</td>\n",
       "      <td>Deliv.</td>\n",
       "      <td>5436709528</td>\n",
       "      <td>000010</td>\n",
       "      <td>-20</td>\n",
       "      <td>541</td>\n",
       "    </tr>\n",
       "    <tr>\n",
       "      <th>4</th>\n",
       "      <td>2004</td>\n",
       "      <td>2018-07-31</td>\n",
       "      <td>OrdRes</td>\n",
       "      <td>11917103</td>\n",
       "      <td>0</td>\n",
       "      <td>-3</td>\n",
       "      <td>538</td>\n",
       "    </tr>\n",
       "    <tr>\n",
       "      <th>5</th>\n",
       "      <td>2004</td>\n",
       "      <td>2018-08-02 00:00:00</td>\n",
       "      <td>Order</td>\n",
       "      <td>5236310755</td>\n",
       "      <td>000070</td>\n",
       "      <td>-40</td>\n",
       "      <td>498</td>\n",
       "    </tr>\n",
       "    <tr>\n",
       "      <th>1</th>\n",
       "      <td>2004</td>\n",
       "      <td>2018-10-01 00:00:00</td>\n",
       "      <td>ShipNt</td>\n",
       "      <td>1042074704</td>\n",
       "      <td>00001</td>\n",
       "      <td>300</td>\n",
       "      <td>798</td>\n",
       "    </tr>\n",
       "  </tbody>\n",
       "</table>\n",
       "</div>"
      ],
      "text/plain": [
       "  Partnr                 Date    Type      DocNum     Pos  Change  Avail\n",
       "2   2004           2018-07-31  OrdRes    11917103       0      -6     -6\n",
       "0   2004           2018-07-31   Stock                   0     567    561\n",
       "3   2004           2018-07-31  Deliv.  5436709528  000010     -20    541\n",
       "4   2004           2018-07-31  OrdRes    11917103       0      -3    538\n",
       "5   2004  2018-08-02 00:00:00   Order  5236310755  000070     -40    498\n",
       "1   2004  2018-10-01 00:00:00  ShipNt  1042074704   00001     300    798"
      ]
     },
     "execution_count": 356,
     "metadata": {},
     "output_type": "execute_result"
    }
   ],
   "source": [
    "result[3]"
   ]
  },
  {
   "cell_type": "code",
   "execution_count": 116,
   "metadata": {},
   "outputs": [],
   "source": [
    "excelConversion(result[0],result[1],result[2])"
   ]
  },
  {
   "cell_type": "code",
   "execution_count": 140,
   "metadata": {
    "scrolled": true
   },
   "outputs": [
    {
     "data": {
      "text/html": [
       "<div>\n",
       "<style scoped>\n",
       "    .dataframe tbody tr th:only-of-type {\n",
       "        vertical-align: middle;\n",
       "    }\n",
       "\n",
       "    .dataframe tbody tr th {\n",
       "        vertical-align: top;\n",
       "    }\n",
       "\n",
       "    .dataframe thead th {\n",
       "        text-align: right;\n",
       "    }\n",
       "</style>\n",
       "<table border=\"1\" class=\"dataframe\">\n",
       "  <thead>\n",
       "    <tr style=\"text-align: right;\">\n",
       "      <th></th>\n",
       "      <th>Partnr</th>\n",
       "      <th>Date</th>\n",
       "      <th>Type</th>\n",
       "      <th>DocNum</th>\n",
       "      <th>Pos</th>\n",
       "      <th>Change</th>\n",
       "      <th>Avail</th>\n",
       "    </tr>\n",
       "  </thead>\n",
       "  <tbody>\n",
       "    <tr>\n",
       "      <th>0</th>\n",
       "      <td>2004</td>\n",
       "      <td>2018/07/31</td>\n",
       "      <td>Stock</td>\n",
       "      <td></td>\n",
       "      <td>0</td>\n",
       "      <td>567</td>\n",
       "      <td>567</td>\n",
       "    </tr>\n",
       "    <tr>\n",
       "      <th>1</th>\n",
       "      <td>2004</td>\n",
       "      <td>2018/10/01</td>\n",
       "      <td>ShipNt</td>\n",
       "      <td>1042074704</td>\n",
       "      <td>00001</td>\n",
       "      <td>300</td>\n",
       "      <td>867</td>\n",
       "    </tr>\n",
       "    <tr>\n",
       "      <th>2</th>\n",
       "      <td>2004</td>\n",
       "      <td>2018/07/25</td>\n",
       "      <td>OrdRes</td>\n",
       "      <td>11917103</td>\n",
       "      <td>0</td>\n",
       "      <td>-6</td>\n",
       "      <td>861</td>\n",
       "    </tr>\n",
       "    <tr>\n",
       "      <th>3</th>\n",
       "      <td>2004</td>\n",
       "      <td>2018/07/31</td>\n",
       "      <td>Deliv.</td>\n",
       "      <td>5436709528</td>\n",
       "      <td>000010</td>\n",
       "      <td>-20</td>\n",
       "      <td>841</td>\n",
       "    </tr>\n",
       "    <tr>\n",
       "      <th>4</th>\n",
       "      <td>2004</td>\n",
       "      <td>2018/07/31</td>\n",
       "      <td>OrdRes</td>\n",
       "      <td>11917103</td>\n",
       "      <td>0</td>\n",
       "      <td>-3</td>\n",
       "      <td>838</td>\n",
       "    </tr>\n",
       "    <tr>\n",
       "      <th>5</th>\n",
       "      <td>2004</td>\n",
       "      <td>2018/08/02</td>\n",
       "      <td>Order</td>\n",
       "      <td>5236310755</td>\n",
       "      <td>000070</td>\n",
       "      <td>-40</td>\n",
       "      <td>798</td>\n",
       "    </tr>\n",
       "  </tbody>\n",
       "</table>\n",
       "</div>"
      ],
      "text/plain": [
       "  Partnr        Date    Type      DocNum     Pos  Change  Avail\n",
       "0   2004  2018/07/31   Stock                   0     567    567\n",
       "1   2004  2018/10/01  ShipNt  1042074704   00001     300    867\n",
       "2   2004  2018/07/25  OrdRes    11917103       0      -6    861\n",
       "3   2004  2018/07/31  Deliv.  5436709528  000010     -20    841\n",
       "4   2004  2018/07/31  OrdRes    11917103       0      -3    838\n",
       "5   2004  2018/08/02   Order  5236310755  000070     -40    798"
      ]
     },
     "execution_count": 140,
     "metadata": {},
     "output_type": "execute_result"
    }
   ],
   "source": [
    "result[3]"
   ]
  },
  {
   "cell_type": "code",
   "execution_count": 124,
   "metadata": {},
   "outputs": [
    {
     "name": "stderr",
     "output_type": "stream",
     "text": [
      "C:\\dev\\anaconda3\\lib\\site-packages\\ipykernel_launcher.py:1: SettingWithCopyWarning: \n",
      "A value is trying to be set on a copy of a slice from a DataFrame\n",
      "\n",
      "See the caveats in the documentation: http://pandas.pydata.org/pandas-docs/stable/indexing.html#indexing-view-versus-copy\n",
      "  \"\"\"Entry point for launching an IPython kernel.\n"
     ]
    }
   ],
   "source": [
    "result[3]['Change'][0]= result[3]['Avail'][0]"
   ]
  },
  {
   "cell_type": "code",
   "execution_count": 129,
   "metadata": {},
   "outputs": [],
   "source": [
    "result[3]['Avail']=result[3]['Change'].cumsum()"
   ]
  },
  {
   "cell_type": "code",
   "execution_count": 130,
   "metadata": {},
   "outputs": [
    {
     "data": {
      "text/html": [
       "<div>\n",
       "<style scoped>\n",
       "    .dataframe tbody tr th:only-of-type {\n",
       "        vertical-align: middle;\n",
       "    }\n",
       "\n",
       "    .dataframe tbody tr th {\n",
       "        vertical-align: top;\n",
       "    }\n",
       "\n",
       "    .dataframe thead th {\n",
       "        text-align: right;\n",
       "    }\n",
       "</style>\n",
       "<table border=\"1\" class=\"dataframe\">\n",
       "  <thead>\n",
       "    <tr style=\"text-align: right;\">\n",
       "      <th></th>\n",
       "      <th>Partnr</th>\n",
       "      <th>Date</th>\n",
       "      <th>Type</th>\n",
       "      <th>DocNum</th>\n",
       "      <th>Pos</th>\n",
       "      <th>Change</th>\n",
       "      <th>Avail</th>\n",
       "    </tr>\n",
       "  </thead>\n",
       "  <tbody>\n",
       "    <tr>\n",
       "      <th>0</th>\n",
       "      <td>2004</td>\n",
       "      <td>2018/07/31</td>\n",
       "      <td>Stock</td>\n",
       "      <td></td>\n",
       "      <td>0</td>\n",
       "      <td>567</td>\n",
       "      <td>567</td>\n",
       "    </tr>\n",
       "    <tr>\n",
       "      <th>1</th>\n",
       "      <td>2004</td>\n",
       "      <td>2018/10/01</td>\n",
       "      <td>ShipNt</td>\n",
       "      <td>1042074704</td>\n",
       "      <td>00001</td>\n",
       "      <td>300</td>\n",
       "      <td>867</td>\n",
       "    </tr>\n",
       "    <tr>\n",
       "      <th>2</th>\n",
       "      <td>2004</td>\n",
       "      <td>2018/07/25</td>\n",
       "      <td>OrdRes</td>\n",
       "      <td>11917103</td>\n",
       "      <td>0</td>\n",
       "      <td>-6</td>\n",
       "      <td>861</td>\n",
       "    </tr>\n",
       "    <tr>\n",
       "      <th>3</th>\n",
       "      <td>2004</td>\n",
       "      <td>2018/07/31</td>\n",
       "      <td>Deliv.</td>\n",
       "      <td>5436709528</td>\n",
       "      <td>000010</td>\n",
       "      <td>-20</td>\n",
       "      <td>841</td>\n",
       "    </tr>\n",
       "    <tr>\n",
       "      <th>4</th>\n",
       "      <td>2004</td>\n",
       "      <td>2018/07/31</td>\n",
       "      <td>OrdRes</td>\n",
       "      <td>11917103</td>\n",
       "      <td>0</td>\n",
       "      <td>-3</td>\n",
       "      <td>838</td>\n",
       "    </tr>\n",
       "    <tr>\n",
       "      <th>5</th>\n",
       "      <td>2004</td>\n",
       "      <td>2018/08/02</td>\n",
       "      <td>Order</td>\n",
       "      <td>5236310755</td>\n",
       "      <td>000070</td>\n",
       "      <td>-40</td>\n",
       "      <td>798</td>\n",
       "    </tr>\n",
       "  </tbody>\n",
       "</table>\n",
       "</div>"
      ],
      "text/plain": [
       "  Partnr        Date    Type      DocNum     Pos  Change  Avail\n",
       "0   2004  2018/07/31   Stock                   0     567    567\n",
       "1   2004  2018/10/01  ShipNt  1042074704   00001     300    867\n",
       "2   2004  2018/07/25  OrdRes    11917103       0      -6    861\n",
       "3   2004  2018/07/31  Deliv.  5436709528  000010     -20    841\n",
       "4   2004  2018/07/31  OrdRes    11917103       0      -3    838\n",
       "5   2004  2018/08/02   Order  5236310755  000070     -40    798"
      ]
     },
     "execution_count": 130,
     "metadata": {},
     "output_type": "execute_result"
    }
   ],
   "source": [
    "result[3]"
   ]
  },
  {
   "cell_type": "markdown",
   "metadata": {},
   "source": [
    "## ACTUAL RUNNING (for MD04list.txt)"
   ]
  },
  {
   "cell_type": "code",
   "execution_count": 393,
   "metadata": {
    "scrolled": true
   },
   "outputs": [
    {
     "name": "stderr",
     "output_type": "stream",
     "text": [
      "C:\\dev\\anaconda3\\lib\\site-packages\\ipykernel_launcher.py:27: SettingWithCopyWarning: \n",
      "A value is trying to be set on a copy of a slice from a DataFrame\n",
      "\n",
      "See the caveats in the documentation: http://pandas.pydata.org/pandas-docs/stable/indexing.html#indexing-view-versus-copy\n"
     ]
    }
   ],
   "source": [
    "total=[]\n",
    "filelist=[]\n",
    "totalOrder=[]\n",
    "totalMeta=[]\n",
    "totalQueue=[]\n",
    "\n",
    "f=open(\"MD04list.txt\",\"r\", encoding=\"UTF-8\")\n",
    "list=f.readlines()\n",
    "\n",
    "for i in list :    \n",
    "    RESULT=unitParser(i.replace(\"\\n\",\"\"))    \n",
    "    total.append(pd.DataFrame(RESULT[0], columns=header))\n",
    "    totalOrder.append(RESULT[1])\n",
    "    totalMeta.append(RESULT[2])\n",
    "    totalQueue.append([RESULT[3]])"
   ]
  },
  {
   "cell_type": "markdown",
   "metadata": {},
   "source": [
    "## EXCEL FILE "
   ]
  },
  {
   "cell_type": "code",
   "execution_count": 394,
   "metadata": {},
   "outputs": [],
   "source": [
    "final=pd.DataFrame()\n",
    "orderfinal=pd.DataFrame()\n",
    "metafinal=pd.DataFrame()\n",
    "queuefinal=pd.DataFrame()\n",
    "\n",
    "for i in total : \n",
    "        final=final.append(i)\n",
    "\n",
    "for i in totalOrder : \n",
    "        orderfinal=orderfinal.append(i)\n",
    "        \n",
    "        \n",
    "for i in totalMeta : \n",
    "        metafinal=metafinal.append(i)\n",
    "                \n",
    "for i in totalQueue : \n",
    "        queuefinal=queuefinal.append(i)"
   ]
  },
  {
   "cell_type": "code",
   "execution_count": 395,
   "metadata": {
    "scrolled": true
   },
   "outputs": [],
   "source": [
    "#To save excel file \n",
    "writer=pd.ExcelWriter(str(datetime.now().date()) + '.xlsx')\n",
    "final.to_excel(writer,'Sheet1')\n",
    "orderfinal.to_excel(writer, 'Sheet2')\n",
    "metafinal.to_excel(writer, 'Sheet3')\n",
    "queuefinal.to_excel(writer, 'Sheet4')\n",
    "writer.save()"
   ]
  },
  {
   "cell_type": "code",
   "execution_count": 396,
   "metadata": {},
   "outputs": [
    {
     "data": {
      "text/plain": [
       "2    2018-07-31 18:24:57.276324\n",
       "0    2018-07-31 00:00:00.000000\n",
       "3    2018-07-31 00:00:00.000000\n",
       "4    2018-07-31 00:00:00.000000\n",
       "5    2018-08-02 00:00:00.000000\n",
       "1    2018-10-01 00:00:00.000000\n",
       "0    2018-07-31 00:00:00.000000\n",
       "0    2018-07-31 00:00:00.000000\n",
       "2    2018-07-31 00:00:00.000000\n",
       "1    2018-08-08 00:00:00.000000\n",
       "0    2018-07-31 00:00:00.000000\n",
       "0    2018-07-31 00:00:00.000000\n",
       "1    2018-07-31 00:00:00.000000\n",
       "0    2018-07-31 00:00:00.000000\n",
       "1    2018-09-04 00:00:00.000000\n",
       "0    2018-07-31 00:00:00.000000\n",
       "1    2018-07-31 00:00:00.000000\n",
       "0    2018-07-31 00:00:00.000000\n",
       "0    2018-07-31 00:00:00.000000\n",
       "0    2018-07-31 00:00:00.000000\n",
       "1    2018-08-07 00:00:00.000000\n",
       "0    2018-07-31 00:00:00.000000\n",
       "0    2018-07-31 00:00:00.000000\n",
       "0    2018-07-31 00:00:00.000000\n",
       "1    2018-08-21 00:00:00.000000\n",
       "0    2018-07-31 00:00:00.000000\n",
       "0    2018-07-31 00:00:00.000000\n",
       "0    2018-07-31 00:00:00.000000\n",
       "0    2018-07-31 00:00:00.000000\n",
       "1    2018-07-31 00:00:00.000000\n",
       "                ...            \n",
       "3    2018-08-23 00:00:00.000000\n",
       "4    2018-08-23 00:00:00.000000\n",
       "5    2018-09-06 00:00:00.000000\n",
       "6    2018-09-06 00:00:00.000000\n",
       "7    2018-10-01 00:00:00.000000\n",
       "8    2018-10-01 00:00:00.000000\n",
       "10   2018-10-04 00:00:00.000000\n",
       "9    2018-10-04 00:00:00.000000\n",
       "11   2018-10-11 00:00:00.000000\n",
       "12   2018-10-11 00:00:00.000000\n",
       "13   2018-11-08 00:00:00.000000\n",
       "14   2018-11-08 00:00:00.000000\n",
       "15   2018-11-22 00:00:00.000000\n",
       "16   2018-11-22 00:00:00.000000\n",
       "17   2018-12-06 00:00:00.000000\n",
       "18   2018-12-06 00:00:00.000000\n",
       "0    2018-07-31 00:00:00.000000\n",
       "0    2018-07-31 00:00:00.000000\n",
       "0    2018-07-31 00:00:00.000000\n",
       "3    2018-07-31 18:25:11.780861\n",
       "0    2018-07-31 00:00:00.000000\n",
       "1    2018-07-31 00:00:00.000000\n",
       "2    2018-08-06 00:00:00.000000\n",
       "4    2018-08-06 00:00:00.000000\n",
       "0    2018-07-31 00:00:00.000000\n",
       "0    2018-07-31 00:00:00.000000\n",
       "1    2018-07-31 00:00:00.000000\n",
       "2    2018-07-31 00:00:00.000000\n",
       "0    2018-07-31 00:00:00.000000\n",
       "0    2018-07-31 00:00:00.000000\n",
       "Name: Date, Length: 299, dtype: datetime64[ns]"
      ]
     },
     "execution_count": 396,
     "metadata": {},
     "output_type": "execute_result"
    }
   ],
   "source": [
    "queuefinal.Date"
   ]
  },
  {
   "cell_type": "code",
   "execution_count": 397,
   "metadata": {},
   "outputs": [],
   "source": [
    "partnrs=queuefinal[queuefinal['Avail']<0].Partnr.unique()"
   ]
  },
  {
   "cell_type": "code",
   "execution_count": 398,
   "metadata": {
    "scrolled": false
   },
   "outputs": [
    {
     "data": {
      "image/png": "[encoded data removed]",
      "text/plain": [
       "<matplotlib.figure.Figure at 0x249f7d0f128>"
      ]
     },
     "metadata": {},
     "output_type": "display_data"
    },
    {
     "data": {
      "image/png": "[encoded data removed]",
      "text/plain": [
       "<matplotlib.figure.Figure at 0x249e8b11550>"
      ]
     },
     "metadata": {},
     "output_type": "display_data"
    },
    {
     "data": {
      "image/png": "[encoded data removed]",
      "text/plain": [
       "<matplotlib.figure.Figure at 0x249e8b3d828>"
      ]
     },
     "metadata": {},
     "output_type": "display_data"
    },
    {
     "data": {
      "image/png": "[encoded data removed]",
      "text/plain": [
       "<matplotlib.figure.Figure at 0x249f88712b0>"
      ]
     },
     "metadata": {},
     "output_type": "display_data"
    },
    {
     "data": {
      "image/png": "[encoded data removed]",
      "text/plain": [
       "<matplotlib.figure.Figure at 0x249e8c7e0b8>"
      ]
     },
     "metadata": {},
     "output_type": "display_data"
    },
    {
     "data": {
      "image/png": "[encoded data removed]",
      "text/plain": [
       "<matplotlib.figure.Figure at 0x249f7930710>"
      ]
     },
     "metadata": {},
     "output_type": "display_data"
    },
    {
     "data": {
      "image/png": "[encoded data removed]",
      "text/plain": [
       "<matplotlib.figure.Figure at 0x249f8906160>"
      ]
     },
     "metadata": {},
     "output_type": "display_data"
    },
    {
     "data": {
      "image/png": "[encoded data removed]",
      "text/plain": [
       "<matplotlib.figure.Figure at 0x249e8ab5278>"
      ]
     },
     "metadata": {},
     "output_type": "display_data"
    },
    {
     "data": {
      "image/png": "[encoded data removed]",
      "text/plain": [
       "<matplotlib.figure.Figure at 0x249f8927358>"
      ]
     },
     "metadata": {},
     "output_type": "display_data"
    },
    {
     "data": {
      "image/png": "[encoded data removed]",
      "text/plain": [
       "<matplotlib.figure.Figure at 0x249f8314128>"
      ]
     },
     "metadata": {},
     "output_type": "display_data"
    },
    {
     "data": {
      "image/png": "[encoded data removed]",
      "text/plain": [
       "<matplotlib.figure.Figure at 0x249f8893400>"
      ]
     },
     "metadata": {},
     "output_type": "display_data"
    }
   ],
   "source": [
    "for partnr in partnrs :     \n",
    "    part=mask(queuefinal,\"Partnr\", partnr)\n",
    "    part.plot(x='Date',y='Avail', title=partnr)"
   ]
  },
  {
   "cell_type": "code",
   "execution_count": 399,
   "metadata": {},
   "outputs": [
    {
     "data": {
      "text/plain": [
       "Timestamp('2018-07-31 00:00:00')"
      ]
     },
     "execution_count": 399,
     "metadata": {},
     "output_type": "execute_result"
    }
   ],
   "source": [
    "min(queuefinal['Date'])"
   ]
  },
  {
   "cell_type": "code",
   "execution_count": null,
   "metadata": {},
   "outputs": [],
   "source": []
  }
 ],
 "metadata": {
  "kernelspec": {
   "display_name": "Python 3",
   "language": "python",
   "name": "python3"
  },
  "language_info": {
   "codemirror_mode": {
    "name": "ipython",
    "version": 3
   },
   "file_extension": ".py",
   "mimetype": "text/x-python",
   "name": "python",
   "nbconvert_exporter": "python",
   "pygments_lexer": "ipython3",
   "version": "3.6.4"
  }
 },
 "nbformat": 4,
 "nbformat_minor": 2
}
