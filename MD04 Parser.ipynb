{
 "cells": [
  {
   "cell_type": "code",
   "execution_count": 1,
   "metadata": {},
   "outputs": [],
   "source": [
    "#https://stackoverflow.com/questions/11869910/pandas-filter-rows-of-dataframe-with-operator-chaining\n",
    "import pandas as pd\n",
    "import numpy as np\n",
    "import datetime\n",
    "from dateutil import parser\n",
    "from datetime import datetime, timedelta "
   ]
  },
  {
   "cell_type": "code",
   "execution_count": 2,
   "metadata": {},
   "outputs": [],
   "source": [
    "\n",
    "category = { \n",
    "    'ShipNt' :  \"Receipt\",\n",
    "    'SchLne' :  \"Receipt\",    \n",
    "    'Stock'  :  \"Receipt\",\n",
    "    'PlOrd.'  :  \"Receipt\",\n",
    "    'CStock' : \"Reqmt\",\n",
    "    'Ordres' : \"Reqmt\",    \n",
    "    'Order'  :  \"Reqmt\",\n",
    "    'Deliv.' : \"Reqmt\",\n",
    "    'PrdOrd' : \"\", #normally assigned together with cstock. no need to count\n",
    "    'OrdRes' : \"Reqmt\",\n",
    "    'TrRes.' : \"Reqmt\",\n",
    "    'DepReq' : \"Reqmt\",\n",
    "    'RelOrd' : \"Reqmt\",\n",
    "    'Fr.del' : \"Reqmt\",\n",
    "    #'SafeSt' : \"Reqmt\", #For GPC Production\n",
    "    'SafeSt' : \"\", #For 360 F-KR, which would consume SafeST as well.\n",
    "    'StLcSt' : \"\",\n",
    "    'PurRqs' : \"\",\n",
    "    '----->' : \"\",\n",
    "    'IndReq' : \"\"\n",
    "}\n",
    "header=[\"Partnr\",\"SO_Date\",\"SO_MRP\", \"SO_NR\", \"SO_POS\",\"SO_QTY\", \"PO_DATE\",\"PO_MRP\",\"PO_NR\", \"PO_POS\",\"PO_QTY\"]\n",
    "metaheader=['partnr', 'description', 'MRP', 'TYPE', 'PLANT', 'LT']\n",
    "total=[]   "
   ]
  },
  {
   "cell_type": "code",
   "execution_count": 3,
   "metadata": {},
   "outputs": [],
   "source": [
    "#filter using chain method \n",
    "def mask(df, key, value):\n",
    "    return df[df[key] == value]\n",
    "pd.DataFrame.mask = mask"
   ]
  },
  {
   "cell_type": "code",
   "execution_count": 4,
   "metadata": {},
   "outputs": [],
   "source": [
    "def fileRead(filename) :    \n",
    "    count=0    \n",
    "    \n",
    "    with open(filename,\"r\", encoding=\"ISO-8859-1\") as file:\n",
    "        document= file.readlines() \n",
    "        #print(\"Reading the file as raw format\" , filename)\n",
    "    return document #read whole content in \"document\""
   ]
  },
  {
   "cell_type": "code",
   "execution_count": 5,
   "metadata": {},
   "outputs": [],
   "source": [
    "def orderRead(filename) : \n",
    "    document=fileRead(filename)\n",
    "    partnr=document[5].split(\"             \")[1].strip()\n",
    "    orderList=[]\n",
    "    #print(document[20])\n",
    "    try : \n",
    "        clientLocation=document[20].split(\"|\").index(\"Customer  \")\n",
    "    except :\n",
    "        clientLocation=-1\n",
    "\n",
    "    for line in document[22:-3] : \n",
    "        splitLine=line.split(\"|\")\n",
    "        type=splitLine[3].strip()    \n",
    "        \n",
    "        if (category[type]=='Reqmt') : \n",
    "            try : \n",
    "                qty=int(float(splitLine[7].replace(\"-\",\"\")))\n",
    "            except :\n",
    "                qty=0\n",
    "                \n",
    "            order= (partnr,splitLine[2].strip(), splitLine[4][:10].strip(), qty, splitLine[clientLocation])\n",
    "            #print(order)\n",
    "            orderList.append(order)\n",
    "\n",
    "    return pd.DataFrame(orderList, columns=[\"partnr\", \"date\", \"so\",\"qty\",\"client\"] )"
   ]
  },
  {
   "cell_type": "code",
   "execution_count": 6,
   "metadata": {},
   "outputs": [],
   "source": [
    "def fehaParser(ReqmtQueue, ReceiptQueue) :\n",
    "    \n",
    "    MappedResult=[]\n",
    "    flag=0\n",
    "    Receipt=[]\n",
    "    Reqmt=[]\n",
    "    \n",
    "    \n",
    "    try :       \n",
    "        Receipt = ReceiptQueue.pop(0)        \n",
    "        Reqmt = ReqmtQueue.pop(0)  \n",
    "\n",
    "        while True :                 \n",
    "            #print (Receipt[5], Reqmt[5])\n",
    "            if Receipt[5] + Reqmt[5] == 0 :                    \n",
    "                flag=0\n",
    "                MappedResult.append([Reqmt[0], Reqmt[1], Reqmt[2], Reqmt[3], Reqmt[4], Reqmt[5],  Receipt[1], Receipt[2], Receipt[3], Receipt[4], Receipt[5]])    \n",
    "                \n",
    "                if len(ReceiptQueue) +  len(ReqmtQueue) <=0 : return MappedResult                        \n",
    "\n",
    "                Receipt=[]; Receipt = ReceiptQueue.pop(0)\n",
    "                Reqmt=[]; Reqmt = ReqmtQueue.pop(0)  \n",
    "\n",
    "            if Receipt[5] + Reqmt[5] > 0 :                           \n",
    "                flag=1\n",
    "                MappedResult.append([Reqmt[0], Reqmt[1], Reqmt[2], Reqmt[3], Reqmt[4], Reqmt[5],  Receipt[1], Receipt[2], Receipt[3], Receipt[4], -Reqmt[5]])    \n",
    "                Receipt[5] +=Reqmt[5]            \n",
    "                Reqmt = ReqmtQueue.pop(0)  \n",
    "\n",
    "\n",
    "            if Receipt[5] + Reqmt[5] < 0 :                                \n",
    "                flag=-1\n",
    "                MappedResult.append([Reqmt[0], Reqmt[1], Reqmt[2], Reqmt[3], Reqmt[4], -Receipt[5],  Receipt[1], Receipt[2], Receipt[3], Receipt[4], Receipt[5]])\n",
    "                Reqmt[5] +=Receipt[5]\n",
    "                Receipt = ReceiptQueue.pop(0)\n",
    "\n",
    "        #if no elment for popping.  \n",
    "    except Exception as e:   \n",
    "\n",
    "        if flag == -1:\n",
    "            MappedResult.append([Reqmt[0], Reqmt[1], Reqmt[2], Reqmt[3], Reqmt[4], Reqmt[5],'','' ,'' ,'' ,'' ]) \n",
    "        elif flag == 1:\n",
    "            MappedResult.append([Receipt[0], '','','','','',  Receipt[1], Receipt[2], Receipt[3], Receipt[4], Receipt[5]])          \n",
    "\n",
    "        elif flag == 0:                \n",
    "\n",
    "\n",
    "            if len(Reqmt) == 0 and len(Receipt)==0 :                     \n",
    "                print(\"both empty\")\n",
    "            elif len(Reqmt) == 0 and len(Receipt)!=0: \n",
    "                ##print(\"Reqmt empty\")\n",
    "                MappedResult.append([Receipt[0], '','','','','',  Receipt[1], Receipt[2], Receipt[3], Receipt[4], Receipt[5]])          \n",
    "            elif len(Reqmt) !=0 and len(Receipt) ==0 :                \n",
    "                ##print(\"Receipt empty\")\n",
    "                MappedResult.append([Reqmt[0], Reqmt[1], Reqmt[2], Reqmt[3], Reqmt[4], Reqmt[5],'','' ,'' ,'' ,'' ]) \n",
    "\n",
    "\n",
    "        for Reqmt in ReqmtQueue :\n",
    "            MappedResult.append([Reqmt[0], Reqmt[1], Reqmt[2], Reqmt[3], Reqmt[4], Reqmt[5],'','' ,'' ,'' ,'' ]) \n",
    "\n",
    "        for Receipt in ReceiptQueue :\n",
    "            MappedResult.append([Receipt[0], '','','','','',  Receipt[1], Receipt[2], Receipt[3], Receipt[4], Receipt[5]])          \n",
    "\n",
    "        return MappedResult\n",
    "            "
   ]
  },
  {
   "cell_type": "code",
   "execution_count": 7,
   "metadata": {},
   "outputs": [],
   "source": [
    "def parsingDoc(document) :\n",
    "    #line 6 for material # and material description\n",
    "    \n",
    "    \n",
    "    partnr=document[5].split(\"             \")[1].strip()\n",
    "    description=document[5].split(\"             \")[2].strip()\n",
    "    plnt=document[6].split()[2].strip()    \n",
    "    #print(\"plnt number\", plnt)\n",
    "    if plnt!='0360' : category['SafeSt'] = \"Reqmt\" #If plnt is not 0360 (F-KR), safety stock should be reqmt \n",
    "    \n",
    "    \n",
    "    #line9 MRP type / Matl Type\n",
    "    MRP=document[8].split()[3];\n",
    "    MatlType=document[8].split()[6];\n",
    "\n",
    "    #line11 Purchasing Group\n",
    "    PurGrp=document[10].split()[2]; \n",
    "\n",
    "    #line12\n",
    "    leadtime=document[11].split()[4];\n",
    "\n",
    "    meta=[partnr,description, MRP, MatlType, PurGrp, leadtime]\n",
    "    header=[\"Partnr\", \"Date\",\"Type\",\"DocNum\",\"Pos\",\"Change\",\"Avail\"]\n",
    "    data=[]\n",
    "\n",
    "    for line in document[22:-3] :\n",
    "        cursor=line.split(\"|\")\n",
    "                \n",
    "        #doc/pos number extracted\n",
    "        try :            \n",
    "            docNum=cursor[4].strip().split(\"/\")[0]\n",
    "            pos=cursor[4].strip().split(\"/\")[1]\n",
    "        \n",
    "        except Exception as e:\n",
    "            docNum=cursor[4].strip()\n",
    "            pos=0\n",
    "        \n",
    "        #qty extracted \n",
    "        try  :\n",
    "            if int(cursor[7][-1] == \"-\") :                      \n",
    "                 qty=(-int(float((cursor[7][0:-1].strip().replace(\",\",\"\")))))\n",
    "            \n",
    "            else:                \n",
    "                qty=((int(float(cursor[7].strip().replace(\",\",\"\")))))\n",
    "        \n",
    "        except Exception as e:\n",
    "            qty=0\n",
    "            \n",
    "        #avail number extracted \n",
    "        try : \n",
    "            if int(cursor[8][-1] == \"-\") :      \n",
    "                avail=(-int(float((cursor[8][0:-1].strip().replace(\",\",\"\")))))\n",
    "            else:\n",
    "                avail=((int(float(cursor[8].strip().replace(\",\",\"\")))))                \n",
    "                \n",
    "        except Exception as e:\n",
    "            avail=0            \n",
    "        datum = [partnr, cursor[2].strip(), cursor[3].strip(), docNum, pos, qty, avail]\n",
    "        data.append(datum)\n",
    "    \n",
    "    md04={\"meta\":meta, \"header\": header, \"data\":data}\n",
    "    return md04"
   ]
  },
  {
   "cell_type": "code",
   "execution_count": 8,
   "metadata": {},
   "outputs": [],
   "source": [
    "#Direct Procurmeent Extractor\n",
    "def directProcurementParser(mdlist) : \n",
    "    flag=False\n",
    "    \n",
    "    DIRECTPROCUREMENT=[] #final result\n",
    "    idxs=[] #index numbers for reomving\n",
    "    \n",
    "    \n",
    "    for idx, line in enumerate(mdlist): \n",
    "        type=line[2]                \n",
    "        #signal\n",
    "        if (type=='----->') :\n",
    "            idxs.append(idx)\n",
    "            flag=True\n",
    "            continue    \n",
    "        #Receipt\n",
    "        if(flag==True and category[type]=='Reqmt') :       \n",
    "            reqmt=line \n",
    "            idxs.append(idx)\n",
    "\n",
    "        if(flag==True and category[type]=='Receipt') :       \n",
    "            receipt=line\n",
    "            flag=False \n",
    "            pair=reqmt[0:5] + receipt [5:6] + receipt [1:6]\n",
    "            idxs.append(idx)\n",
    "            #print(pair)        \n",
    "            DIRECTPROCUREMENT.append(pair)\n",
    "    return DIRECTPROCUREMENT, idxs"
   ]
  },
  {
   "cell_type": "code",
   "execution_count": 9,
   "metadata": {
    "scrolled": false
   },
   "outputs": [],
   "source": [
    "#KMAT PARSER\n",
    "\n",
    "def kmatParser(mdlist) :\n",
    "    flag=False\n",
    "    KMAT=[] #final result\n",
    "    idxs=[] #index numbers for reomving\n",
    "    \n",
    "    for idx, line in enumerate(mdlist):         \n",
    "\n",
    "        type=line[2]            \n",
    "\n",
    "        #Requirement    \n",
    "        if (flag==False) and (type=='CStock') :                                 \n",
    "            flag=True\n",
    "            reqmt=line\n",
    "            idxs.append(idx)\n",
    "            continue    \n",
    "        #Receipt\n",
    "        if(flag==True) :       \n",
    "            receipt=line        \n",
    "            if type!='CStock':\n",
    "                flag=False \n",
    "                pair=reqmt[0:5] + [-receipt [5]] + receipt [1:6]\n",
    "                idxs.append(idx)\n",
    "\n",
    "            if type=='CStock':             \n",
    "                pair=reqmt[0:5] + [-reqmt[6]] + [\"\",\"\" ,\"\" ,\"\" ,reqmt[6] ]\n",
    "                reqmt = line\n",
    "                idxs.append(idx)\n",
    "            #print(pair)        \n",
    "            KMAT.append(pair)  \n",
    "    return KMAT, idxs"
   ]
  },
  {
   "cell_type": "code",
   "execution_count": 10,
   "metadata": {},
   "outputs": [],
   "source": [
    "#To save excel file \n",
    "def excelConversion(MD04,ORDER,META) : \n",
    "    writer=pd.ExcelWriter(str(datetime.datetime.now().date()) + '_unit_output.xlsx')\n",
    "    MD04.to_excel(writer,'Sheet1')\n",
    "    ORDER.to_excel(writer,'Sheet2')\n",
    "    META.to_excel(writer,'Sheet3')\n",
    "    writer.save()"
   ]
  },
  {
   "cell_type": "code",
   "execution_count": 11,
   "metadata": {},
   "outputs": [],
   "source": [
    "\n",
    "#read file as list type\n",
    "def unitParser(filename) : \n",
    "    textFile=fileRead(filename)\n",
    "\n",
    "    #parsing doc \n",
    "        # md04['data']  = line infomration\n",
    "        # md04['header']. # md04['meta']= Meta information \n",
    "\n",
    "    md04=parsingDoc(textFile) \n",
    "    PD=pd.DataFrame(md04[\"data\"], columns=md04[\"header\"])   \n",
    "    df=PD.iloc[:,0:7]   \n",
    "    mdList=md04['data']\n",
    "        \n",
    "    #DIRECT PROCUREMENT, KMAT\n",
    "    DIRECTPROCUREMENT, idxsDirectProcurement =directProcurementParser(mdList)\n",
    "    KMAT, idxsKMAT =kmatParser(mdList)\n",
    "    idxs= idxsDirectProcurement+idxsKMAT\n",
    "    \n",
    "    #FEHA\n",
    "    remaining = [v for i, v in enumerate (mdList) if i not in idxs]        \n",
    "        \n",
    "    ReceiptQueue=[item for item in remaining if category[item[2]]=='Receipt']\n",
    "    ReceiptQueue[0][5]= ReceiptQueue[0][6]        #STOCK Treatment\n",
    "\n",
    "    ReqmtQueue=[item for item in remaining if category[item[2]]=='Reqmt']\n",
    "   \n",
    "\n",
    "    \n",
    "\n",
    "    QUEUE= pd.DataFrame(ReceiptQueue+ ReqmtQueue, columns=md04['header'])\n",
    "    \n",
    "    #Stock pretreatment\n",
    "    #QUEUE['Change'][0]= QUEUE['Avail'][0]\n",
    "    \n",
    "    \n",
    "    #Date pretreatment\n",
    "    #yesterday = datetime.now() - timedelta(days=1)    \n",
    "    QUEUE['Date'] = QUEUE['Date'].apply(lambda x:parser.parse(x))\n",
    "    QUEUE.loc[QUEUE.Date < datetime.now(), 'Date']=  datetime.now()\n",
    "    \n",
    "    \n",
    "    #Sorted by date in ascending order\n",
    "    QUEUE=QUEUE.sort_values(by=['Date'])\n",
    "    QUEUE['Avail']=QUEUE['Change'].cumsum()\n",
    "    \n",
    "    \n",
    "    \n",
    "    \n",
    "    \n",
    "    \n",
    "    FEHA=fehaParser(ReqmtQueue, ReceiptQueue)\n",
    "    \n",
    "    #RESULT TO BE IN DATAFRAME\n",
    "    MD04=pd.DataFrame(pd.DataFrame((FEHA + KMAT + DIRECTPROCUREMENT), columns=header))\n",
    "\n",
    "\n",
    "    #ORDER LIST\n",
    "    ORDER=orderRead(filename)\n",
    "\n",
    "    #META\n",
    "    META=pd.DataFrame([md04['meta']], columns=metaheader)\n",
    "    \n",
    "    \n",
    "    \n",
    "    \n",
    "    \n",
    "    \n",
    "    \n",
    "    return MD04,ORDER,META,QUEUE"
   ]
  },
  {
   "cell_type": "markdown",
   "metadata": {},
   "source": [
    "# UNIT TEST"
   ]
  },
  {
   "cell_type": "code",
   "execution_count": 54,
   "metadata": {
    "scrolled": true
   },
   "outputs": [],
   "source": [
    "result=unitParser(\"352336\")"
   ]
  },
  {
   "cell_type": "code",
   "execution_count": 55,
   "metadata": {
    "scrolled": false
   },
   "outputs": [
    {
     "ename": "AttributeError",
     "evalue": "type object 'datetime.datetime' has no attribute 'datetime'",
     "output_type": "error",
     "traceback": [
      "\u001b[1;31m---------------------------------------------------------------------------\u001b[0m",
      "\u001b[1;31mAttributeError\u001b[0m                            Traceback (most recent call last)",
      "\u001b[1;32m<ipython-input-55-2dde20c696ea>\u001b[0m in \u001b[0;36m<module>\u001b[1;34m()\u001b[0m\n\u001b[1;32m----> 1\u001b[1;33m \u001b[0mexcelConversion\u001b[0m\u001b[1;33m(\u001b[0m\u001b[0mresult\u001b[0m\u001b[1;33m[\u001b[0m\u001b[1;36m0\u001b[0m\u001b[1;33m]\u001b[0m\u001b[1;33m,\u001b[0m\u001b[0mresult\u001b[0m\u001b[1;33m[\u001b[0m\u001b[1;36m1\u001b[0m\u001b[1;33m]\u001b[0m\u001b[1;33m,\u001b[0m\u001b[0mresult\u001b[0m\u001b[1;33m[\u001b[0m\u001b[1;36m2\u001b[0m\u001b[1;33m]\u001b[0m\u001b[1;33m)\u001b[0m\u001b[1;33m\u001b[0m\u001b[0m\n\u001b[0m",
      "\u001b[1;32m<ipython-input-52-928463211f0f>\u001b[0m in \u001b[0;36mexcelConversion\u001b[1;34m(MD04, ORDER, META)\u001b[0m\n\u001b[0;32m      1\u001b[0m \u001b[1;31m#To save excel file\u001b[0m\u001b[1;33m\u001b[0m\u001b[1;33m\u001b[0m\u001b[0m\n\u001b[0;32m      2\u001b[0m \u001b[1;32mdef\u001b[0m \u001b[0mexcelConversion\u001b[0m\u001b[1;33m(\u001b[0m\u001b[0mMD04\u001b[0m\u001b[1;33m,\u001b[0m\u001b[0mORDER\u001b[0m\u001b[1;33m,\u001b[0m\u001b[0mMETA\u001b[0m\u001b[1;33m)\u001b[0m \u001b[1;33m:\u001b[0m\u001b[1;33m\u001b[0m\u001b[0m\n\u001b[1;32m----> 3\u001b[1;33m     \u001b[0mwriter\u001b[0m\u001b[1;33m=\u001b[0m\u001b[0mpd\u001b[0m\u001b[1;33m.\u001b[0m\u001b[0mExcelWriter\u001b[0m\u001b[1;33m(\u001b[0m\u001b[0mstr\u001b[0m\u001b[1;33m(\u001b[0m\u001b[0mdatetime\u001b[0m\u001b[1;33m.\u001b[0m\u001b[0mdatetime\u001b[0m\u001b[1;33m.\u001b[0m\u001b[0mnow\u001b[0m\u001b[1;33m(\u001b[0m\u001b[1;33m)\u001b[0m\u001b[1;33m.\u001b[0m\u001b[0mdate\u001b[0m\u001b[1;33m(\u001b[0m\u001b[1;33m)\u001b[0m\u001b[1;33m)\u001b[0m \u001b[1;33m+\u001b[0m \u001b[1;34m'_unit_output.xlsx'\u001b[0m\u001b[1;33m)\u001b[0m\u001b[1;33m\u001b[0m\u001b[0m\n\u001b[0m\u001b[0;32m      4\u001b[0m     \u001b[0mMD04\u001b[0m\u001b[1;33m.\u001b[0m\u001b[0mto_excel\u001b[0m\u001b[1;33m(\u001b[0m\u001b[0mwriter\u001b[0m\u001b[1;33m,\u001b[0m\u001b[1;34m'Sheet1'\u001b[0m\u001b[1;33m)\u001b[0m\u001b[1;33m\u001b[0m\u001b[0m\n\u001b[0;32m      5\u001b[0m     \u001b[0mORDER\u001b[0m\u001b[1;33m.\u001b[0m\u001b[0mto_excel\u001b[0m\u001b[1;33m(\u001b[0m\u001b[0mwriter\u001b[0m\u001b[1;33m,\u001b[0m\u001b[1;34m'Sheet2'\u001b[0m\u001b[1;33m)\u001b[0m\u001b[1;33m\u001b[0m\u001b[0m\n",
      "\u001b[1;31mAttributeError\u001b[0m: type object 'datetime.datetime' has no attribute 'datetime'"
     ]
    }
   ],
   "source": [
    "excelConversion(result[0],result[1],result[2])"
   ]
  },
  {
   "cell_type": "markdown",
   "metadata": {},
   "source": [
    "## ACTUAL RUNNING (for MD04list.txt)"
   ]
  },
  {
   "cell_type": "code",
   "execution_count": 12,
   "metadata": {
    "scrolled": false
   },
   "outputs": [],
   "source": [
    "from os import listdir\n",
    "from os.path import isfile, join\n",
    "#mypath=\"C:\\\\dev\\\\MD04\\\\180801\"\n",
    "mypath=\"C:\\\\dev\\\\MD04\\\\180816\"\n",
    "#filelist = [mypath + \"\\\\\" + f for f in listdir(mypath)]\n",
    "filelist = [mypath + \"\\\\\" + f for f in listdir(mypath) if f.find(\"xls\")<0]"
   ]
  },
  {
   "cell_type": "code",
   "execution_count": 13,
   "metadata": {
    "scrolled": true
   },
   "outputs": [],
   "source": [
    "total=[]\n",
    "#filelist=[]\n",
    "totalOrder=[]\n",
    "totalMeta=[]\n",
    "totalQueue=[]\n",
    "\n",
    "#f=open(\"MD04list.txt\",\"r\", encoding=\"UTF-8\")\n",
    "#list=f.readlines()\n",
    "\n",
    "for i in filelist :    \n",
    "    RESULT=unitParser(i.replace(\"\\n\",\"\"))    \n",
    "    total.append(pd.DataFrame(RESULT[0], columns=header))\n",
    "    totalOrder.append(RESULT[1])\n",
    "    totalMeta.append(RESULT[2])\n",
    "    totalQueue.append([RESULT[3]])"
   ]
  },
  {
   "cell_type": "markdown",
   "metadata": {},
   "source": [
    "## EXCEL FILE "
   ]
  },
  {
   "cell_type": "code",
   "execution_count": 19,
   "metadata": {},
   "outputs": [],
   "source": [
    "final=pd.DataFrame()\n",
    "orderfinal=pd.DataFrame()\n",
    "metafinal=pd.DataFrame()\n",
    "queuefinal=pd.DataFrame()\n",
    "\n",
    "for i in total : \n",
    "        final=final.append(i)\n",
    "\n",
    "for i in totalOrder : \n",
    "        orderfinal=orderfinal.append(i)\n",
    "        \n",
    "        \n",
    "for i in totalMeta : \n",
    "        metafinal=metafinal.append(i)\n",
    "                \n",
    "for i in totalQueue : \n",
    "        queuefinal=queuefinal.append(i)"
   ]
  },
  {
   "cell_type": "code",
   "execution_count": 20,
   "metadata": {
    "scrolled": true
   },
   "outputs": [
    {
     "ename": "PermissionError",
     "evalue": "[Errno 13] Permission denied: 'C:\\\\dev\\\\MD04\\\\180816\\\\2018-08-16.xlsx'",
     "output_type": "error",
     "traceback": [
      "\u001b[1;31m---------------------------------------------------------------------------\u001b[0m",
      "\u001b[1;31mPermissionError\u001b[0m                           Traceback (most recent call last)",
      "\u001b[1;32m<ipython-input-20-a5664a71a3b9>\u001b[0m in \u001b[0;36m<module>\u001b[1;34m()\u001b[0m\n\u001b[0;32m      5\u001b[0m \u001b[0mmetafinal\u001b[0m\u001b[1;33m.\u001b[0m\u001b[0mto_excel\u001b[0m\u001b[1;33m(\u001b[0m\u001b[0mwriter\u001b[0m\u001b[1;33m,\u001b[0m \u001b[1;34m'Sheet3'\u001b[0m\u001b[1;33m)\u001b[0m\u001b[1;33m\u001b[0m\u001b[0m\n\u001b[0;32m      6\u001b[0m \u001b[0mqueuefinal\u001b[0m\u001b[1;33m.\u001b[0m\u001b[0mto_excel\u001b[0m\u001b[1;33m(\u001b[0m\u001b[0mwriter\u001b[0m\u001b[1;33m,\u001b[0m \u001b[1;34m'Sheet4'\u001b[0m\u001b[1;33m)\u001b[0m\u001b[1;33m\u001b[0m\u001b[0m\n\u001b[1;32m----> 7\u001b[1;33m \u001b[0mwriter\u001b[0m\u001b[1;33m.\u001b[0m\u001b[0msave\u001b[0m\u001b[1;33m(\u001b[0m\u001b[1;33m)\u001b[0m\u001b[1;33m\u001b[0m\u001b[0m\n\u001b[0m",
      "\u001b[1;32mC:\\dev\\anaconda3\\lib\\site-packages\\pandas\\io\\excel.py\u001b[0m in \u001b[0;36msave\u001b[1;34m(self)\u001b[0m\n\u001b[0;32m   1600\u001b[0m         \"\"\"\n\u001b[0;32m   1601\u001b[0m \u001b[1;33m\u001b[0m\u001b[0m\n\u001b[1;32m-> 1602\u001b[1;33m         \u001b[1;32mreturn\u001b[0m \u001b[0mself\u001b[0m\u001b[1;33m.\u001b[0m\u001b[0mbook\u001b[0m\u001b[1;33m.\u001b[0m\u001b[0mclose\u001b[0m\u001b[1;33m(\u001b[0m\u001b[1;33m)\u001b[0m\u001b[1;33m\u001b[0m\u001b[0m\n\u001b[0m\u001b[0;32m   1603\u001b[0m \u001b[1;33m\u001b[0m\u001b[0m\n\u001b[0;32m   1604\u001b[0m     def write_cells(self, cells, sheet_name=None, startrow=0, startcol=0,\n",
      "\u001b[1;32mC:\\dev\\anaconda3\\lib\\site-packages\\xlsxwriter\\workbook.py\u001b[0m in \u001b[0;36mclose\u001b[1;34m(self)\u001b[0m\n\u001b[0;32m    308\u001b[0m         \u001b[1;32mif\u001b[0m \u001b[1;32mnot\u001b[0m \u001b[0mself\u001b[0m\u001b[1;33m.\u001b[0m\u001b[0mfileclosed\u001b[0m\u001b[1;33m:\u001b[0m\u001b[1;33m\u001b[0m\u001b[0m\n\u001b[0;32m    309\u001b[0m             \u001b[0mself\u001b[0m\u001b[1;33m.\u001b[0m\u001b[0mfileclosed\u001b[0m \u001b[1;33m=\u001b[0m \u001b[1;36m1\u001b[0m\u001b[1;33m\u001b[0m\u001b[0m\n\u001b[1;32m--> 310\u001b[1;33m             \u001b[0mself\u001b[0m\u001b[1;33m.\u001b[0m\u001b[0m_store_workbook\u001b[0m\u001b[1;33m(\u001b[0m\u001b[1;33m)\u001b[0m\u001b[1;33m\u001b[0m\u001b[0m\n\u001b[0m\u001b[0;32m    311\u001b[0m \u001b[1;33m\u001b[0m\u001b[0m\n\u001b[0;32m    312\u001b[0m     \u001b[1;32mdef\u001b[0m \u001b[0mset_size\u001b[0m\u001b[1;33m(\u001b[0m\u001b[0mself\u001b[0m\u001b[1;33m,\u001b[0m \u001b[0mwidth\u001b[0m\u001b[1;33m,\u001b[0m \u001b[0mheight\u001b[0m\u001b[1;33m)\u001b[0m\u001b[1;33m:\u001b[0m\u001b[1;33m\u001b[0m\u001b[0m\n",
      "\u001b[1;32mC:\\dev\\anaconda3\\lib\\site-packages\\xlsxwriter\\workbook.py\u001b[0m in \u001b[0;36m_store_workbook\u001b[1;34m(self)\u001b[0m\n\u001b[0;32m    622\u001b[0m \u001b[1;33m\u001b[0m\u001b[0m\n\u001b[0;32m    623\u001b[0m         xlsx_file = ZipFile(self.filename, \"w\", compression=ZIP_DEFLATED,\n\u001b[1;32m--> 624\u001b[1;33m                             allowZip64=self.allow_zip64)\n\u001b[0m\u001b[0;32m    625\u001b[0m \u001b[1;33m\u001b[0m\u001b[0m\n\u001b[0;32m    626\u001b[0m         \u001b[1;31m# Add XML sub-files to the Zip file with their Excel filename.\u001b[0m\u001b[1;33m\u001b[0m\u001b[1;33m\u001b[0m\u001b[0m\n",
      "\u001b[1;32mC:\\dev\\anaconda3\\lib\\zipfile.py\u001b[0m in \u001b[0;36m__init__\u001b[1;34m(self, file, mode, compression, allowZip64)\u001b[0m\n\u001b[0;32m   1088\u001b[0m             \u001b[1;32mwhile\u001b[0m \u001b[1;32mTrue\u001b[0m\u001b[1;33m:\u001b[0m\u001b[1;33m\u001b[0m\u001b[0m\n\u001b[0;32m   1089\u001b[0m                 \u001b[1;32mtry\u001b[0m\u001b[1;33m:\u001b[0m\u001b[1;33m\u001b[0m\u001b[0m\n\u001b[1;32m-> 1090\u001b[1;33m                     \u001b[0mself\u001b[0m\u001b[1;33m.\u001b[0m\u001b[0mfp\u001b[0m \u001b[1;33m=\u001b[0m \u001b[0mio\u001b[0m\u001b[1;33m.\u001b[0m\u001b[0mopen\u001b[0m\u001b[1;33m(\u001b[0m\u001b[0mfile\u001b[0m\u001b[1;33m,\u001b[0m \u001b[0mfilemode\u001b[0m\u001b[1;33m)\u001b[0m\u001b[1;33m\u001b[0m\u001b[0m\n\u001b[0m\u001b[0;32m   1091\u001b[0m                 \u001b[1;32mexcept\u001b[0m \u001b[0mOSError\u001b[0m\u001b[1;33m:\u001b[0m\u001b[1;33m\u001b[0m\u001b[0m\n\u001b[0;32m   1092\u001b[0m                     \u001b[1;32mif\u001b[0m \u001b[0mfilemode\u001b[0m \u001b[1;32min\u001b[0m \u001b[0mmodeDict\u001b[0m\u001b[1;33m:\u001b[0m\u001b[1;33m\u001b[0m\u001b[0m\n",
      "\u001b[1;31mPermissionError\u001b[0m: [Errno 13] Permission denied: 'C:\\\\dev\\\\MD04\\\\180816\\\\2018-08-16.xlsx'"
     ]
    }
   ],
   "source": [
    "#To save excel file \n",
    "writer=pd.ExcelWriter(mypath + \"\\\\\" + str(datetime.now().date()) + '.xlsx')\n",
    "final.to_excel(writer,'Sheet1')\n",
    "orderfinal.to_excel(writer, 'Sheet2')\n",
    "metafinal.to_excel(writer, 'Sheet3')\n",
    "queuefinal.to_excel(writer, 'Sheet4')\n",
    "writer.save()"
   ]
  },
  {
   "cell_type": "code",
   "execution_count": 31,
   "metadata": {
    "scrolled": true
   },
   "outputs": [],
   "source": [
    "#partnrs=queuefinal[queuefinal['Avail']<0].Partnr.unique()\n",
    "#partnrs=queuefinal[queuefinal['Change']<0].Partnr.unique()\n",
    "\n",
    "#listofpartnr=['151873', '151865', '151870', '151863', '151874']\n",
    "#partnrs=queuefinal[queuefinal['Partnr'].isin(listofpartnr)].Partnr.unique()\n",
    "partnrs=queuefinal.Partnr.unique()\n",
    "\n"
   ]
  },
  {
   "cell_type": "code",
   "execution_count": 17,
   "metadata": {
    "scrolled": false
   },
   "outputs": [],
   "source": [
    "for partnr in partnrs :     \n",
    "    part=mask(queuefinal,\"Partnr\", partnr)\n",
    "    part.plot(x='Date',y='Avail', title=partnr, figsize =(10,5))"
   ]
  },
  {
   "cell_type": "code",
   "execution_count": 33,
   "metadata": {},
   "outputs": [
    {
     "data": {
      "text/plain": [
       "10"
      ]
     },
     "execution_count": 33,
     "metadata": {},
     "output_type": "execute_result"
    }
   ],
   "source": [
    "len(partnrs)"
   ]
  },
  {
   "cell_type": "code",
   "execution_count": 28,
   "metadata": {
    "scrolled": true
   },
   "outputs": [
    {
     "data": {
      "text/plain": [
       "'541276'"
      ]
     },
     "execution_count": 28,
     "metadata": {},
     "output_type": "execute_result"
    }
   ],
   "source": [
    "partnr"
   ]
  },
  {
   "cell_type": "code",
   "execution_count": 27,
   "metadata": {
    "scrolled": false
   },
   "outputs": [
    {
     "name": "stdout",
     "output_type": "stream",
     "text": [
      "151852\n",
      "151852\n",
      "151855\n",
      "151855\n",
      "151865\n",
      "151865\n",
      "151865\n",
      "151865\n",
      "151865\n",
      "151870\n",
      "151870\n",
      "151870\n",
      "151870\n",
      "151870\n",
      "151870\n",
      "151874\n",
      "151874\n",
      "151874\n",
      "159700\n",
      "531030\n",
      "541267\n",
      "541267\n",
      "541267\n",
      "541267\n",
      "541267\n",
      "541267\n",
      "541267\n",
      "541267\n",
      "541267\n",
      "541267\n",
      "541267\n",
      "541267\n",
      "541267\n",
      "541267\n",
      "541267\n",
      "541267\n",
      "541267\n",
      "541267\n",
      "541267\n",
      "541267\n",
      "541267\n",
      "541267\n",
      "541267\n",
      "541267\n",
      "541267\n",
      "541268\n",
      "541268\n",
      "541268\n",
      "541268\n",
      "541268\n",
      "541268\n",
      "541268\n",
      "541268\n",
      "541268\n",
      "541268\n",
      "541276\n",
      "541276\n",
      "541276\n"
     ]
    }
   ],
   "source": [
    "for partnr in queuefinal.Partnr :     \n",
    "    print(partnr)\n",
    "    #part=mask(queuefinal,\"Partnr\", partnr)\n",
    "    #part.plot(x='Date',y='Avail', title=partnr, figsize =(10,5))"
   ]
  },
  {
   "cell_type": "code",
   "execution_count": null,
   "metadata": {},
   "outputs": [],
   "source": []
  }
 ],
 "metadata": {
  "kernelspec": {
   "display_name": "Python 3",
   "language": "python",
   "name": "python3"
  },
  "language_info": {
   "codemirror_mode": {
    "name": "ipython",
    "version": 3
   },
   "file_extension": ".py",
   "mimetype": "text/x-python",
   "name": "python",
   "nbconvert_exporter": "python",
   "pygments_lexer": "ipython3",
   "version": "3.6.4"
  }
 },
 "nbformat": 4,
 "nbformat_minor": 2
}
